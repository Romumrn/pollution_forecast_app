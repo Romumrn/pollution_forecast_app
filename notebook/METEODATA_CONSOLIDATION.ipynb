{
 "cells": [
  {
   "cell_type": "markdown",
   "id": "524282df-e054-4976-830e-4a227bcfa3f4",
   "metadata": {},
   "source": [
    "### METEODATA CONSOLIDATION \n",
    "from  https://meteo.data.gouv.fr/datasets/donnees-climatologiques-de-base-quotidiennes/"
   ]
  },
  {
   "cell_type": "code",
   "execution_count": 2,
   "id": "ad62b910-dce6-4aae-989b-e292606fd2d5",
   "metadata": {},
   "outputs": [],
   "source": [
    "import requests\n",
    "import os\n",
    "import io\n",
    "import pandas as pd \n"
   ]
  },
  {
   "cell_type": "code",
   "execution_count": 3,
   "id": "6d1dad0f-a548-4830-88cf-85c2a3d25731",
   "metadata": {},
   "outputs": [],
   "source": [
    "### directory where files are stored\n",
    "directory = \"/Users/elenamicossi/Library/CloudStorage/OneDrive-Personal/DATAFR/METEO\"\n",
    "dataIN = data_climate_cleaned.csv"
   ]
  },
  {
   "cell_type": "code",
   "execution_count": 34,
   "id": "4f742144-79b6-4427-a354-1abfd08a4e60",
   "metadata": {},
   "outputs": [],
   "source": [
    "# Loop through numbers 1 to 97 (inclusive)\n",
    "for i in range(1, 98):\n",
    "    # Pad the number with a leading zero if it's a single digit\n",
    "    if len(str(i)) == 1:\n",
    "        i = \"0\" + str(i)\n",
    "    else:\n",
    "        i = str(i)\n",
    "\n",
    "    # Initialize an empty list to hold DataFrames for wind files\n",
    "    dataframes_vent = []\n",
    "\n",
    "    # Process each .csv.gz file for the current number (Vent data)\n",
    "    for file in glob.glob(f\"{directory}/Q_{i}*Vent.csv.gz\"):\n",
    "        # Read the CSV file with gzip compression\n",
    "        data = pd.read_csv(file, sep=';', compression='gzip')\n",
    "        \n",
    "        # Convert the 'AAAAMMJJ' column to string to ensure proper filtering\n",
    "        data['AAAAMMJJ'] = data['AAAAMMJJ'].astype(str)\n",
    "        \n",
    "        # Remove rows recorded before 2017\n",
    "        data = data[data['AAAAMMJJ'].str[:4].astype(int) >= 2017]\n",
    "        \n",
    "        # Append the filtered data to the list\n",
    "        dataframes_vent.append(data)\n",
    "        \n",
    "        # Concatenate all DataFrames in the list into a single DataFrame\n",
    "        result_vent = pd.concat(dataframes_vent)\n",
    "        \n",
    "\n",
    "    # Initialize an empty list to hold DataFrames names for 'autres-parametres' files\n",
    "    dataframes_autre = []\n",
    "\n",
    "    # Process each .csv.gz file for the current number (autres-parametres data)\n",
    "    for file in glob.glob(f\"{directory}/Q_{i}*autres-parametres.csv.gz\"):\n",
    "        # Read the CSV file with gzip compression\n",
    "        data = pd.read_csv(file, sep=';', compression='gzip')\n",
    "        \n",
    "        # Convert the 'AAAAMMJJ' column to string to ensure proper filtering\n",
    "        data['AAAAMMJJ'] = data['AAAAMMJJ'].astype(str)\n",
    "        \n",
    "        # Remove rows recorded before 2017\n",
    "        data = data[data['AAAAMMJJ'].str[:4].astype(int) >= 2017]\n",
    "        \n",
    "        # Append the filtered data to the list\n",
    "        dataframes_autre.append(data)\n",
    "\n",
    "        # Concatenate all DataFrames in the list into a single DataFrame\n",
    "        result_autre = pd.concat(dataframes_autre)\n",
    "    \n",
    "# Merge the two DataFrames on the specified columns\n",
    "combined_df = pd.merge(result_autre, result_vent, how=\"right\", on=[\"NUM_POSTE\", \"NOM_USUEL\", \"LAT\", \"LON\", \"ALTI\", \"AAAAMMJJ\"])\n",
    "\n",
    "# Save the combined DataFrame to a CSV file\n",
    "combined_df.to_csv(f\"{directory}/data_climate_cleaned.csv\", index=False)\n",
    "\n",
    "\n"
   ]
  },
  {
   "cell_type": "code",
   "execution_count": null,
   "id": "a671d879-5042-4f5f-a8d8-c498bba31af4",
   "metadata": {},
   "outputs": [],
   "source": []
  }
 ],
 "metadata": {
  "kernelspec": {
   "display_name": "Python 3 (ipykernel)",
   "language": "python",
   "name": "python3"
  },
  "language_info": {
   "codemirror_mode": {
    "name": "ipython",
    "version": 3
   },
   "file_extension": ".py",
   "mimetype": "text/x-python",
   "name": "python",
   "nbconvert_exporter": "python",
   "pygments_lexer": "ipython3",
   "version": "3.11.5"
  }
 },
 "nbformat": 4,
 "nbformat_minor": 5
}
